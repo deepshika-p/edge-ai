{
 "cells": [
  {
   "cell_type": "code",
   "execution_count": null,
   "metadata": {
    "id": "8ynuMXRsHTJq"
   },
   "outputs": [],
   "source": [
    "import tensorflow as tf\n",
    "from tensorflow.keras.models import Sequential\n",
    "from tensorflow.keras.datasets import mnist\n",
    "from tensorflow.keras.layers import Dense, Conv2D, Dropout, Flatten, MaxPooling2D\n",
    "import cv2\n",
    "import numpy as np\n",
    "import random\n",
    "from tensorflow.keras.models import load_model\n",
    "from tensorflow.keras.utils import to_categorical"
   ]
  },
  {
   "cell_type": "code",
   "execution_count": null,
   "metadata": {
    "id": "H5w0PlQQHhe5"
   },
   "outputs": [],
   "source": [
    "(X_train, y_train), (X_test, y_test) = mnist.load_data()\n",
    "\n",
    "X_train = X_train.reshape(X_train.shape[0], 28, 28, 1)\n",
    "X_test = X_test.reshape(X_test.shape[0], 28, 28, 1)\n",
    "\n",
    "input_shape =(28, 28,1)\n",
    "\n",
    "X_train = X_train.astype('float32')\n",
    "X_test = X_test.astype('float32')\n",
    "\n",
    "X_train /= 255\n",
    "X_test /= 255\n",
    "\n",
    "y_train = to_categorical(y_train, num_classes=10)\n",
    "y_test = to_categorical(y_test, num_classes=10)\n",
    "\n",
    "\n",
    "def init():\n",
    "    model  =Sequential()\n",
    "    model.add(Conv2D(28, kernel_size=(3, 3), input_shape = input_shape))\n",
    "    model.add(MaxPooling2D(pool_size=(2,2)))\n",
    "    model.add(Flatten())\n",
    "    model.add(Dense(128, activation='relu'))\n",
    "    model.add(Dropout(0.2))\n",
    "    model.add(Dense(10, activation='softmax'))\n",
    "\n",
    "    model.compile(optimizer='adam', loss='categorical_crossentropy', metrics=['accuracy'])\n",
    "\n",
    "    return model\n",
    "\n",
    "\n",
    "def train(models):\n",
    "    losses = []\n",
    "    for i in range(len(models)):\n",
    "        history = models[i].fit(x=X_train,y=y_train, epochs=1, validation_data=(X_test, y_test))\n",
    "        losses.append(round(history.history['loss'][-1], 4))\n",
    "    return models, losses\n",
    "\n",
    "#model.save(\"cnn.h5\", model)"
   ]
  },
  {
   "cell_type": "code",
   "execution_count": null,
   "metadata": {
    "colab": {
     "base_uri": "https://localhost:8080/",
     "height": 1000
    },
    "id": "YUC-PChsHi0A",
    "outputId": "e5998a33-d918-448e-ed34-eb0cea4a3b25"
   },
   "outputs": [],
   "source": [
    "no_of_generations = 10\n",
    "no_of_individuals = 10\n",
    "mutate_factor = 0.05\n",
    "individuals = []\n",
    "\n",
    "layers = [0, 3, 5]\n",
    "\n",
    "def mutate(new_individual):\n",
    "\n",
    "    for i in layers:\n",
    "        for bias in range(len(new_individual.layers[i].get_weights()[1])):\n",
    "            n = random.random()\n",
    "            if(n < mutate_factor):\n",
    "                new_individual.layers[i].get_weights()[1][bias] *= random.uniform(-0.5, 0.5)\n",
    "\n",
    "    for i in layers:\n",
    "        for weight in new_individual.layers[i].get_weights()[0]:\n",
    "            n = random.random()\n",
    "            if(n < mutate_factor):\n",
    "                for j in range(len(weight)):\n",
    "                    if(random.random() < mutate_factor):\n",
    "                        new_individual.layers[i].get_weights()[0][j] *= random.uniform(-0.5, 0.5)\n",
    "\n",
    "\n",
    "    return new_individual\n",
    "\n",
    "\n",
    "\n",
    "\n",
    "def crossover(individuals):\n",
    "    new_individuals = []\n",
    "\n",
    "    new_individuals.append(individuals[0])\n",
    "    new_individuals.append(individuals[1])\n",
    "\n",
    "    for i in range(2, no_of_individuals):\n",
    "        if(i < (no_of_individuals - 2)):\n",
    "            if(i == 2):\n",
    "                parentA = random.choice(individuals[:3])\n",
    "                parentB = random.choice(individuals[:3])\n",
    "            else:\n",
    "                parentA = random.choice(individuals[:])\n",
    "                parentB = random.choice(individuals[:])\n",
    "\n",
    "            for i in layers:\n",
    "                temp = parentA.layers[i].get_weights()[1]\n",
    "                parentA.layers[i].get_weights()[1] = parentB.layers[i].get_weights()[1]\n",
    "                parentB.layers[i].get_weights()[1] = temp\n",
    "\n",
    "                new_individual = random.choice([parentA, parentB])\n",
    "\n",
    "        else:\n",
    "             new_individual = random.choice(individuals[:])\n",
    "\n",
    "        new_individuals.append(mutate(new_individual))\n",
    "        #new_individuals.append(new_individual)\n",
    "\n",
    "    return new_individuals\n",
    "\n",
    "\n",
    "def evolve(individuals, losses):\n",
    "    sorted_y_idx_list = sorted(range(len(losses)),key=lambda x:losses[x])\n",
    "    individuals = [individuals[i] for i in sorted_y_idx_list ]\n",
    "\n",
    "    #winners = individuals[:6]\n",
    "\n",
    "    new_individuals = crossover(individuals)\n",
    "\n",
    "    return new_individuals\n",
    "\n",
    "\n",
    "\n",
    "\n",
    "for i in range(no_of_individuals):\n",
    "    individuals.append(init())\n",
    "\n",
    "for generation in range(no_of_generations):\n",
    "    individuals, losses = train(individuals)\n",
    "    print(losses)\n",
    "\n",
    "    individuals = evolve(individuals, losses)"
   ]
  },
  {
   "cell_type": "code",
   "execution_count": null,
   "metadata": {
    "colab": {
     "base_uri": "https://localhost:8080/"
    },
    "id": "u9mTd69XJXLo",
    "outputId": "9bbaa7de-bccd-4d64-e4f9-9f0385119885"
   },
   "outputs": [],
   "source": [
    "best_individual = individuals[0]\n",
    "least_loss = losses[0]\n",
    "for i in range(1, len(individuals)):\n",
    "    if losses[i] < least_loss:\n",
    "        best_individual = individuals[i]\n",
    "        least_loss = losses[i]\n",
    "\n",
    "predictions = best_individual.predict(X_test)\n",
    "\n",
    "predicted_labels = np.argmax(predictions, axis=1)\n",
    "\n",
    "print(predicted_labels)"
   ]
  },
  {
   "cell_type": "code",
   "execution_count": null,
   "metadata": {
    "id": "Q4DJu1iMcD4X"
   },
   "outputs": [],
   "source": [
    "import matplotlib.pyplot as plt"
   ]
  },
  {
   "cell_type": "code",
   "execution_count": null,
   "metadata": {
    "colab": {
     "base_uri": "https://localhost:8080/",
     "height": 551
    },
    "id": "qhdZ0vFMM7RF",
    "outputId": "0b4f3e6f-af6b-4139-b790-9d74f03c3de9"
   },
   "outputs": [],
   "source": [
    "fig, ax = plt.subplots(figsize=(18, 12))\n",
    "for ind, row in enumerate(X_test[:15]):\n",
    "    plt.subplot(3, 5, ind+1)\n",
    "    plt.title(predicted_labels[ind])\n",
    "    img = row.reshape(28, 28)\n",
    "    fig.suptitle('Predicted values', fontsize=24)\n",
    "    plt.axis('off')\n",
    "    plt.imshow(img, cmap='cividis')"
   ]
  },
  {
   "cell_type": "code",
   "execution_count": null,
   "metadata": {
    "id": "Od4-QBracCf8"
   },
   "outputs": [],
   "source": []
  }
 ],
 "metadata": {
  "accelerator": "TPU",
  "colab": {
   "gpuType": "V28",
   "provenance": []
  },
  "kernelspec": {
   "display_name": "Python 3 (ipykernel)",
   "language": "python",
   "name": "python3"
  },
  "language_info": {
   "codemirror_mode": {
    "name": "ipython",
    "version": 3
   },
   "file_extension": ".py",
   "mimetype": "text/x-python",
   "name": "python",
   "nbconvert_exporter": "python",
   "pygments_lexer": "ipython3",
   "version": "3.11.5"
  }
 },
 "nbformat": 4,
 "nbformat_minor": 4
}
