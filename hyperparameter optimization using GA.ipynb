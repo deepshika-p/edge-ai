{
 "cells": [
  {
   "cell_type": "code",
   "execution_count": null,
   "metadata": {
    "colab": {
     "base_uri": "https://localhost:8080/"
    },
    "executionInfo": {
     "elapsed": 8138,
     "status": "ok",
     "timestamp": 1725598229100,
     "user": {
      "displayName": "4NM21AI022 DEEPSHIKA POOJARY",
      "userId": "05495350937455563647"
     },
     "user_tz": -330
    },
    "id": "RSpj5TlDUer0",
    "outputId": "4a88754b-bb57-4ce0-938e-67361b080adb"
   },
   "outputs": [],
   "source": [
    "from keras import datasets\n",
    "\n",
    "(X_train, y_train), (X_test, y_test) = datasets.cifar10.load_data()\n",
    "X_train.shape, y_train.shape"
   ]
  },
  {
   "cell_type": "code",
   "execution_count": null,
   "metadata": {
    "colab": {
     "base_uri": "https://localhost:8080/"
    },
    "executionInfo": {
     "elapsed": 6,
     "status": "ok",
     "timestamp": 1725598229100,
     "user": {
      "displayName": "4NM21AI022 DEEPSHIKA POOJARY",
      "userId": "05495350937455563647"
     },
     "user_tz": -330
    },
    "id": "Sbjifkz_U1HV",
    "outputId": "20cf980d-3345-4e4e-96a6-37fd19e81f98"
   },
   "outputs": [],
   "source": [
    "X_test.shape, y_test.shape"
   ]
  },
  {
   "cell_type": "code",
   "execution_count": null,
   "metadata": {
    "id": "AiCi9rbnUupd"
   },
   "outputs": [],
   "source": [
    "train_images =X_train.astype('float32')/255\n",
    "test_images=X_test.astype('float32')/255"
   ]
  },
  {
   "cell_type": "code",
   "execution_count": null,
   "metadata": {
    "id": "ziyiIyTDU464"
   },
   "outputs": [],
   "source": [
    "from keras.utils import to_categorical\n",
    "\n",
    "train_labels=to_categorical(y_train)\n",
    "test_labels=to_categorical(y_test)"
   ]
  },
  {
   "cell_type": "code",
   "execution_count": null,
   "metadata": {
    "id": "58dBsZdmU7MM"
   },
   "outputs": [],
   "source": [
    "val_images=train_images[:10000]\n",
    "partial_images=train_images[10000:]\n",
    "\n",
    "val_labels=train_labels[:10000]\n",
    "partial_labels=train_labels[10000:]"
   ]
  },
  {
   "cell_type": "code",
   "execution_count": null,
   "metadata": {
    "id": "zFQQjnNNU85z"
   },
   "outputs": [],
   "source": [
    "from keras import layers\n",
    "from keras import models\n",
    "from keras.callbacks import EarlyStopping"
   ]
  },
  {
   "cell_type": "code",
   "execution_count": null,
   "metadata": {
    "id": "2FIJu4TgU_Ii"
   },
   "outputs": [],
   "source": [
    "def CNN_model( filter1, filter2, filter3, k, activation_fx_1, activation_fx_2, dropout1, dropout2, optimizer, epochs):\n",
    "  model = models.Sequential()\n",
    "  model.add(layers.Conv2D(filters = filter1, kernel_size = (k, k), activation = activation_fx_1, input_shape = (32,32,3)))\n",
    "  model.add(layers.Conv2D(filters = filter1, kernel_size = (k, k), activation = activation_fx_1))\n",
    "  model.add(layers.MaxPooling2D(2,2))\n",
    "  model.add(layers.Conv2D(filters = filter2, kernel_size = (k, k), activation = activation_fx_2))\n",
    "  model.add(layers.Conv2D(filters = filter2, kernel_size = (k, k), activation = activation_fx_2))\n",
    "  model.add(layers.MaxPooling2D(2,2))\n",
    "  model.add(layers.Flatten())\n",
    "  model.add(layers.Dropout(rate = dropout1))\n",
    "  model.add(layers.Dense(units = filter3, activation = activation_fx_2))\n",
    "  model.add(layers.Dropout(rate = dropout2))\n",
    "  model.add(layers.Dense(10, activation= \"softmax\"))\n",
    "\n",
    "  model.compile(loss = \"categorical_crossentropy\", optimizer = optimizer, metrics = [\"accuracy\"])\n",
    "  es = EarlyStopping(monitor=\"val_accuracy\", patience = 7)\n",
    "  model.fit(partial_images, partial_labels, validation_data=(val_images,val_labels), epochs=epochs, batch_size = 100, callbacks = [es], verbose=0)\n",
    "\n",
    "  return model"
   ]
  },
  {
   "cell_type": "code",
   "execution_count": null,
   "metadata": {
    "id": "DQbGYH4qVe-F"
   },
   "outputs": [],
   "source": [
    "from random import choice\n",
    "from random import uniform\n",
    "from numpy.random import randint"
   ]
  },
  {
   "cell_type": "code",
   "execution_count": null,
   "metadata": {
    "id": "EEaikvWEVjo4"
   },
   "outputs": [],
   "source": [
    "def initialization():\n",
    "  parameters = {}\n",
    "  filter1 = choice([32, 64])\n",
    "  parameters[\"filter1\"] = filter1\n",
    "  filter2 = choice([64, 128])\n",
    "  parameters[\"filter2\"] = filter2\n",
    "  filter3 = choice([128, 256, 512])\n",
    "  parameters[\"filter3\"] = filter3\n",
    "  k = choice([3,5])\n",
    "  parameters[\"k\"] = k\n",
    "  activation_fx_1 = choice([\"relu\", \"selu\", \"elu\"])\n",
    "  parameters[\"activation_fx_1\"] = activation_fx_1\n",
    "  activation_fx_2 = choice([\"relu\", \"selu\", \"elu\"])\n",
    "  parameters[\"activation_fx_2\"] = activation_fx_2\n",
    "  dropout1 = round(uniform(0.1, 0.5), 1)\n",
    "  parameters[\"dropout1\"] = dropout1\n",
    "  dropout2 = round(uniform(0.1, 0.5), 1)\n",
    "  parameters[\"dropout2\"] = dropout2\n",
    "  optimizer = choice([\"adamax\", \"adadelta\", \"adam\", \"adagrad\"])\n",
    "  parameters[\"optimizer\"] = optimizer\n",
    "  epochs = randint(50, 100)\n",
    "  parameters[\"epochs\"] = epochs\n",
    "  return parameters"
   ]
  },
  {
   "cell_type": "code",
   "execution_count": null,
   "metadata": {
    "id": "FuOyB4DLVkWu"
   },
   "outputs": [],
   "source": [
    "def generate_population(n):\n",
    "  population = []\n",
    "  for i in range(n):\n",
    "    chromosome = initialization()\n",
    "    population.append(chromosome)\n",
    "  return population"
   ]
  },
  {
   "cell_type": "code",
   "execution_count": null,
   "metadata": {
    "id": "3qQihLsjVm1k"
   },
   "outputs": [],
   "source": [
    "# Fitness evaluation metric: Classification Accuracy\n",
    "def fitness_evaluation(model):\n",
    "  metrics = model.evaluate(test_images, test_labels)\n",
    "  return metrics[1]"
   ]
  },
  {
   "cell_type": "code",
   "execution_count": null,
   "metadata": {
    "id": "8kdMQu3MVoyk"
   },
   "outputs": [],
   "source": [
    "def selection(population_fitness):\n",
    "  total = sum(population_fitness)\n",
    "  percentage = [round((x/total) * 100) for x in population_fitness]\n",
    "  selection_wheel = []\n",
    "  for pop_index,num in enumerate(percentage):\n",
    "    selection_wheel.extend([pop_index]*num)\n",
    "  parent1_ind = choice(selection_wheel)\n",
    "  parent2_ind = choice(selection_wheel)\n",
    "  return [parent1_ind, parent2_ind]"
   ]
  },
  {
   "cell_type": "code",
   "execution_count": null,
   "metadata": {
    "id": "WZP9A5H1Vq6e"
   },
   "outputs": [],
   "source": [
    "def crossover(parent1, parent2):\n",
    "  child1 = {}\n",
    "  child2 = {}\n",
    "\n",
    "  child1[\"filter1\"] = choice([parent1[\"filter1\"], parent2[\"filter1\"]])\n",
    "  child1[\"filter2\"] = choice([parent1[\"filter2\"], parent2[\"filter2\"]])\n",
    "  child1[\"filter3\"] = choice([parent1[\"filter3\"], parent2[\"filter3\"]])\n",
    "\n",
    "  child2[\"filter1\"] = choice([parent1[\"filter1\"], parent2[\"filter1\"]])\n",
    "  child2[\"filter2\"] = choice([parent1[\"filter2\"], parent2[\"filter2\"]])\n",
    "  child2[\"filter3\"] = choice([parent1[\"filter3\"], parent2[\"filter3\"]])\n",
    "\n",
    "  child1[\"k\"] = choice([parent1[\"k\"], parent2[\"k\"]])\n",
    "  child2[\"k\"] = choice([parent1[\"k\"], parent2[\"k\"]])\n",
    "\n",
    "  child1[\"activation_fx_1\"] = parent1[\"activation_fx_2\"]\n",
    "  child2[\"activation_fx_1\"] = parent2[\"activation_fx_2\"]\n",
    "\n",
    "  child1[\"activation_fx_2\"] = parent2[\"activation_fx_1\"]\n",
    "  child2[\"activation_fx_2\"] = parent1[\"activation_fx_1\"]\n",
    "\n",
    "  child1[\"dropout1\"] = parent1[\"dropout1\"]\n",
    "  child2[\"dropout1\"] = parent2[\"dropout1\"]\n",
    "\n",
    "  child1[\"dropout2\"] = parent2[\"dropout2\"]\n",
    "  child2[\"dropout2\"] = parent1[\"dropout2\"]\n",
    "\n",
    "  child1[\"optimizer\"] = parent2[\"optimizer\"]\n",
    "  child2[\"optimizer\"] = parent1[\"optimizer\"]\n",
    "\n",
    "  child1[\"epochs\"] = parent1[\"epochs\"]\n",
    "  child2[\"epochs\"] = parent2[\"epochs\"]\n",
    "  return [child1, child2]\n"
   ]
  },
  {
   "cell_type": "code",
   "execution_count": null,
   "metadata": {
    "id": "vlOFujT_VwOy"
   },
   "outputs": [],
   "source": [
    "def mutation(chromosome):\n",
    "  flag = randint(0,40)\n",
    "  if flag <= 20:\n",
    "    chromosome[\"epochs\"] += randint(0, 10)\n",
    "  return chromosome"
   ]
  },
  {
   "cell_type": "code",
   "execution_count": null,
   "metadata": {
    "colab": {
     "base_uri": "https://localhost:8080/"
    },
    "id": "tQEpPno0VyI6",
    "outputId": "88b288d2-63fb-490e-ba75-34e15729a6f9"
   },
   "outputs": [],
   "source": [
    "generations = 3\n",
    "threshold = 90\n",
    "num_pop = 10\n",
    "\n",
    "population = generate_population(num_pop)\n",
    "\n",
    "for generation in range(generations):\n",
    "\n",
    "  population_fitness = []\n",
    "  for chromosome in population:\n",
    "    filter1 = chromosome[\"filter1\"]\n",
    "    filter2 = chromosome[\"filter2\"]\n",
    "    filter3 = chromosome[\"filter3\"]\n",
    "    k = chromosome[\"k\"]\n",
    "    activation_fx_1 = chromosome[\"activation_fx_1\"]\n",
    "    activation_fx_2 = chromosome[\"activation_fx_2\"]\n",
    "    dropout1 = chromosome[\"dropout1\"]\n",
    "    dropout2 = chromosome[\"dropout2\"]\n",
    "    optimizer = chromosome[\"optimizer\"]\n",
    "    epochs = chromosome[\"epochs\"]\n",
    "\n",
    "    try:\n",
    "      model = CNN_model(filter1, filter2, filter3, k, activation_fx_1, activation_fx_2, dropout1, dropout2, optimizer, epochs)\n",
    "      acc = fitness_evaluation(model)\n",
    "      print(\"Parameters: \", chromosome)\n",
    "      print(\"Accuracy: \", round(acc,3))\n",
    "    except:\n",
    "      acc=0\n",
    "      print(\"Parameters: \", chromosome)\n",
    "      print(\"Invalid parameters - Build fail\")\n",
    "\n",
    "    population_fitness.append(acc)\n",
    "\n",
    "  parents_ind = selection(population_fitness)\n",
    "  parent1 = population[parents_ind[0]]\n",
    "  parent2 = population[parents_ind[1]]\n",
    "\n",
    "  children = crossover(parent1, parent2)\n",
    "  child1 = mutation(children[0])\n",
    "  child2 = mutation(children[1])\n",
    "\n",
    "  population.append(child1)\n",
    "  population.append(child2)\n",
    "\n",
    "  print(\"Generation \", generation+1,\" Outcome: \")\n",
    "  if max(population_fitness) >= threshold:\n",
    "    print(\"Obtained desired accuracy: \", max(population_fitness))\n",
    "    break\n",
    "  else:\n",
    "    print(\"Maximum accuracy in generation {} : {}\".format(generation+1, max(population_fitness)))\n",
    "\n",
    "  first_min = min(population_fitness)\n",
    "  first_min_ind = population_fitness.index(first_min)\n",
    "  population.remove(population[first_min_ind])\n",
    "  second_min = min(population_fitness)\n",
    "  second_min_ind = population_fitness.index(second_min)\n",
    "  population.remove(population[second_min_ind])"
   ]
  },
  {
   "cell_type": "code",
   "execution_count": null,
   "metadata": {
    "id": "HO_x0xAiYvS1"
   },
   "outputs": [],
   "source": []
  }
 ],
 "metadata": {
  "accelerator": "TPU",
  "colab": {
   "authorship_tag": "ABX9TyMdcKj+dTT4Ki4xjYsAZ+5X",
   "gpuType": "V28",
   "provenance": []
  },
  "kernelspec": {
   "display_name": "Python 3 (ipykernel)",
   "language": "python",
   "name": "python3"
  },
  "language_info": {
   "codemirror_mode": {
    "name": "ipython",
    "version": 3
   },
   "file_extension": ".py",
   "mimetype": "text/x-python",
   "name": "python",
   "nbconvert_exporter": "python",
   "pygments_lexer": "ipython3",
   "version": "3.11.5"
  }
 },
 "nbformat": 4,
 "nbformat_minor": 4
}
